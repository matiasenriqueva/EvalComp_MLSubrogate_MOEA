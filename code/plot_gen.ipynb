{
 "cells": [
  {
   "cell_type": "code",
   "execution_count": 1,
   "metadata": {},
   "outputs": [],
   "source": [
    "import matplotlib.pyplot as plt\n",
    "import numpy as np\n",
    "import os"
   ]
  },
  {
   "cell_type": "code",
   "execution_count": 2,
   "metadata": {},
   "outputs": [],
   "source": [
    "def plot_diversity(data_x, data_y, dirname, run_tag, algorithm, problem):\n",
    "    plt.figure()\n",
    "    plt.plot(data_x, data_y, marker='o', linestyle='-', color='b')\n",
    "\n",
    "    # Add title and labels\n",
    "    plt.title('Porcentaje de diversidad (población nueva) para entrenamiento '+algorithm+' en '+problem)\n",
    "    plt.xlabel('Iteraciones')\n",
    "    plt.ylabel('Porcentaje')\n",
    "    plt.xticks(data_x)\n",
    "\n",
    "\n",
    "    # show grid\n",
    "    plt.grid(True)\n",
    "\n",
    "    # save plot\n",
    "    plt.savefig(os.path.join(dirname, \"diversity_\" + run_tag + \"_\" + algorithm + \"_\"+ problem +\".png\"))\n",
    "    plt.close()"
   ]
  },
  {
   "cell_type": "code",
   "execution_count": 3,
   "metadata": {},
   "outputs": [],
   "source": [
    "def dir_plot_diversity(input_dir):\n",
    "    for dirname, _, filenames in os.walk(input_dir):\n",
    "        for filename in filenames:\n",
    "            try:\n",
    "                # Linux filesystem\n",
    "                algorithm, problem = dirname.split(\"/\")[-2:]\n",
    "            except ValueError:\n",
    "                # Windows filesystem\n",
    "                algorithm, problem = dirname.split(\"\\\\\")[-2:]\n",
    "\n",
    "            if \"DIV\" in filename:\n",
    "                run_tag = [s for s in filename.split(\".\") if s.isdigit()].pop()\n",
    "\n",
    "                content = []\n",
    "                with open(os.path.join(dirname, filename), \"r\") as content_file:\n",
    "                    for line in content_file:\n",
    "                        line = line.replace(\"[\", \"\")\n",
    "                        line = line.replace(\"]\", \"\")\n",
    "                        line = line.replace(\",\", \"\")\n",
    "                        vector = [float(x) for x in line.split()]\n",
    "                        content.append(vector)\n",
    "                    div_index = list()\n",
    "                    div_result = list()\n",
    "                    for i in range(len(content)):\n",
    "                        div_index.append(i+1)\n",
    "                        div_result.append(content[i][1]/content[i][0])\n",
    "                    plot_diversity(div_index, div_result, dirname, run_tag, algorithm, problem)\n",
    "                "
   ]
  },
  {
   "cell_type": "code",
   "execution_count": 4,
   "metadata": {},
   "outputs": [],
   "source": [
    "def plot_2d_pareto(data_x, data_y, dirname, run_tag, algorithm, problem):\n",
    "    plt.figure()\n",
    "\n",
    "    referenceFront = np.loadtxt(\"resources/reference_front/\"+problem+\".pf\", delimiter=' ')\n",
    "    referenceFront = referenceFront[referenceFront[:, 0].argsort()]\n",
    "\n",
    "\n",
    "    plt.plot(referenceFront[:,0], referenceFront[:,1], color=\"red\")\n",
    "\n",
    "    plt.scatter(data_x, data_y, color=\"black\", marker = '.')\n",
    "\n",
    "    plt.xlabel(\"f1\")\n",
    "    plt.ylabel(\"f2\")\n",
    "    plt.title(\"Frente de Pareto para \"+algorithm+\" en \"+problem)\n",
    "    plt.legend([\"Frente de referencia\",algorithm])\n",
    "\n",
    "    # show grid\n",
    "    plt.grid(True)\n",
    "\n",
    "    # save plot\n",
    "    plt.savefig(os.path.join(dirname, \"pareto_\" + run_tag + \"_\" + algorithm + \"_\"+ problem +\".png\"))\n",
    "    plt.close()"
   ]
  },
  {
   "cell_type": "code",
   "execution_count": 5,
   "metadata": {},
   "outputs": [],
   "source": [
    "def dir_plot_2d(input_dir):\n",
    "    for dirname, _, filenames in os.walk(input_dir):\n",
    "        for filename in filenames:\n",
    "            try:\n",
    "                # Linux filesystem\n",
    "                algorithm, problem = dirname.split(\"/\")[-2:]\n",
    "            except ValueError:\n",
    "                # Windows filesystem\n",
    "                algorithm, problem = dirname.split(\"\\\\\")[-2:]\n",
    "\n",
    "            if \"FUN\" in filename:\n",
    "                run_tag = [s for s in filename.split(\".\") if s.isdigit()].pop()\n",
    "\n",
    "                content = []\n",
    "                with open(os.path.join(dirname, filename), \"r\") as content_file:\n",
    "                    for line in content_file:\n",
    "                        vector = [float(x) for x in line.split()]\n",
    "                        content.append(vector)\n",
    "                    f1_objective = [objective[0] for objective in content]\n",
    "                    f2_objective = [objective[1] for objective in content]\n",
    "                    plot_2d_pareto(f1_objective, f2_objective, dirname, run_tag, algorithm, problem)\n",
    "                \n",
    "    "
   ]
  },
  {
   "cell_type": "code",
   "execution_count": 6,
   "metadata": {},
   "outputs": [],
   "source": [
    "import re\n",
    "def read_3d_pf(file):\n",
    "    reader = open(file, \"r\")\n",
    "    lines = reader.readlines()\n",
    "    reader.close()\n",
    "    f1_objective = []\n",
    "    f2_objective = []\n",
    "    f3_objective = []\n",
    "    \n",
    "    for line in lines:\n",
    "        line = line.strip().split(\" \")\n",
    "        for i in range(len(line)):\n",
    "            number = re.sub(r'[^0-9.]', '', line[i])\n",
    "            if number != \"\":\n",
    "                if i == 0:\n",
    "                    f1_objective.append(float(number))\n",
    "                elif i == 1:\n",
    "                    f2_objective.append(float(number))\n",
    "                else:\n",
    "                    f3_objective.append(float(number))\n",
    "    return f1_objective, f2_objective, f3_objective"
   ]
  },
  {
   "cell_type": "code",
   "execution_count": 7,
   "metadata": {},
   "outputs": [],
   "source": [
    "def plot_3d_pareto(data_x, data_y, data_z, dirname, run_tag, algorithm, problem):\n",
    "    \n",
    "    fig = plt.figure()\n",
    "\n",
    "    referenceFront_x , reference_front_y, reference_front_z = read_3d_pf(\"resources/reference_front/\"+problem+\".pf\")\n",
    "\n",
    "    ax = fig.add_subplot(111, projection='3d')\n",
    "\n",
    "    ax.scatter(referenceFront_x, reference_front_y, reference_front_z, color=\"red\", alpha=0.6, s=20, edgecolors='w')\n",
    "    ax.scatter(data_x, data_y, data_z, color=\"black\")\n",
    "\n",
    "    ax.set_xlabel('f1')\n",
    "    ax.set_ylabel('f2')\n",
    "    ax.set_zlabel('f3')\n",
    "    ax.set_title(\"Frente de Pareto para \"+algorithm+\" en \"+problem)\n",
    "    ax.legend([\"Frente de referencia\",algorithm])\n",
    "\n",
    "    # show grid\n",
    "    plt.grid(True)\n",
    "\n",
    "    # save plot\n",
    "    plt.savefig(os.path.join(dirname, \"pareto_\" + run_tag + \"_\" + algorithm + \"_\"+ problem +\".png\"))\n",
    "    plt.close()"
   ]
  },
  {
   "cell_type": "code",
   "execution_count": 8,
   "metadata": {},
   "outputs": [],
   "source": [
    "def dir_plot_3d(input_dir):\n",
    "    for dirname, _, filenames in os.walk(input_dir):\n",
    "        for filename in filenames:\n",
    "            try:\n",
    "                # Linux filesystem\n",
    "                algorithm, problem = dirname.split(\"/\")[-2:]\n",
    "            except ValueError:\n",
    "                # Windows filesystem\n",
    "                algorithm, problem = dirname.split(\"\\\\\")[-2:]\n",
    "\n",
    "            if \"FUN\" in filename:\n",
    "                run_tag = [s for s in filename.split(\".\") if s.isdigit()].pop()\n",
    "\n",
    "                content = []\n",
    "                with open(os.path.join(dirname, filename), \"r\") as content_file:\n",
    "                    for line in content_file:\n",
    "                        vector = [float(x) for x in line.split()]\n",
    "                        content.append(vector)\n",
    "                    f1_objective = [objective[0] for objective in content]\n",
    "                    f2_objective = [objective[1] for objective in content]\n",
    "                    f3_objective = [objective[2] for objective in content]\n",
    "                    plot_3d_pareto(f1_objective, f2_objective, f3_objective, dirname, run_tag, algorithm, problem)"
   ]
  },
  {
   "cell_type": "code",
   "execution_count": 9,
   "metadata": {},
   "outputs": [],
   "source": [
    "#Plot diversity\n",
    "dir_plot_diversity(\"data_zdt\")\n",
    "dir_plot_diversity(\"data_dtlz\")"
   ]
  },
  {
   "cell_type": "code",
   "execution_count": 10,
   "metadata": {},
   "outputs": [],
   "source": [
    "#Plot Pareto 2d ZDT\n",
    "dir_plot_2d(\"data_zdt\")"
   ]
  },
  {
   "cell_type": "code",
   "execution_count": 11,
   "metadata": {},
   "outputs": [],
   "source": [
    "#Plot Pareto 3d DTLZ\n",
    "dir_plot_3d(\"data_dtlz\")"
   ]
  }
 ],
 "metadata": {
  "kernelspec": {
   "display_name": "env2",
   "language": "python",
   "name": "python3"
  },
  "language_info": {
   "codemirror_mode": {
    "name": "ipython",
    "version": 3
   },
   "file_extension": ".py",
   "mimetype": "text/x-python",
   "name": "python",
   "nbconvert_exporter": "python",
   "pygments_lexer": "ipython3",
   "version": "3.8.0"
  }
 },
 "nbformat": 4,
 "nbformat_minor": 2
}
