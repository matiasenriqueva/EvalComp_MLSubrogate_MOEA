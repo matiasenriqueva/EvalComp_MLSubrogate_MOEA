{
 "cells": [
  {
   "cell_type": "code",
   "execution_count": 5,
   "metadata": {},
   "outputs": [],
   "source": [
    "import matplotlib.pyplot as plt\n",
    "import numpy as np\n",
    "import os"
   ]
  },
  {
   "cell_type": "code",
   "execution_count": 6,
   "metadata": {},
   "outputs": [],
   "source": [
    "def plot_diversity(value_x, value_y, name):\n",
    "    plt.figure()\n",
    "    plt.plot(value_x, value_y, marker='o', linestyle='-', color='b')\n",
    "\n",
    "    # Add title and labels\n",
    "    plt.title('Porcentaje de diversidad (población nueva) para entrenamiento')\n",
    "    plt.xlabel('Iteraciones')\n",
    "    plt.ylabel('Porcentaje')\n",
    "    plt.xticks(value_x)\n",
    "\n",
    "\n",
    "    # show grid\n",
    "    plt.grid(True)\n",
    "\n",
    "    # save plot\n",
    "    plt.savefig(name)\n",
    "    plt.close()"
   ]
  },
  {
   "cell_type": "code",
   "execution_count": 7,
   "metadata": {},
   "outputs": [],
   "source": [
    "def read_dir_plot(input_dir):\n",
    "    for dirname, _, filenames in os.walk(input_dir):\n",
    "        for filename in filenames:\n",
    "            try:\n",
    "                # Linux filesystem\n",
    "                algorithm, problem = dirname.split(\"/\")[-2:]\n",
    "            except ValueError:\n",
    "                # Windows filesystem\n",
    "                algorithm, problem = dirname.split(\"\\\\\")[-2:]\n",
    "\n",
    "            if \"DIV\" in filename:\n",
    "                run_tag = [s for s in filename.split(\".\") if s.isdigit()].pop()\n",
    "\n",
    "                content = []\n",
    "                with open(os.path.join(dirname, filename), \"r\") as content_file:\n",
    "                    for line in content_file:\n",
    "                        line = line.replace(\"[\", \"\")\n",
    "                        line = line.replace(\"]\", \"\")\n",
    "                        line = line.replace(\",\", \"\")\n",
    "                        vector = [float(x) for x in line.split()]\n",
    "                        content.append(vector)\n",
    "                    div_index = list()\n",
    "                    div_result = list()\n",
    "                    for i in range(len(content)):\n",
    "                        div_index.append(i+1)\n",
    "                        div_result.append(content[i][1]/content[i][0])\n",
    "                    plot_diversity(div_index, div_result, os.path.join(dirname, \"diversity_\" + run_tag + \"_\" + algorithm + \"_\"+ problem +\".png\"))\n",
    "                "
   ]
  },
  {
   "cell_type": "code",
   "execution_count": 8,
   "metadata": {},
   "outputs": [],
   "source": [
    "read_dir_plot(\"data_zdt\")"
   ]
  }
 ],
 "metadata": {
  "kernelspec": {
   "display_name": "env2",
   "language": "python",
   "name": "python3"
  },
  "language_info": {
   "codemirror_mode": {
    "name": "ipython",
    "version": 3
   },
   "file_extension": ".py",
   "mimetype": "text/x-python",
   "name": "python",
   "nbconvert_exporter": "python",
   "pygments_lexer": "ipython3",
   "version": "3.8.0"
  }
 },
 "nbformat": 4,
 "nbformat_minor": 2
}
