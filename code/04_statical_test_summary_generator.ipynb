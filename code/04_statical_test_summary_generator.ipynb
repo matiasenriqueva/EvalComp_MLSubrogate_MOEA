{
 "cells": [
  {
   "cell_type": "code",
   "execution_count": 1,
   "metadata": {},
   "outputs": [],
   "source": [
    "from jmetal.lab.experiment import compute_mean_indicator, compute_wilcoxon, generate_latex_tables\n",
    "from jmetal.lab.statistical_test.functions import friedman_test, friedman_aligned_rank_test, friedman_aligned_ph_test\n",
    "import os\n",
    "import pandas as pd"
   ]
  },
  {
   "cell_type": "code",
   "execution_count": null,
   "metadata": {},
   "outputs": [],
   "source": [
    "def generate_tables(problem_name):\n",
    "    path_folder = \"data_statical_test\"\n",
    "    os.makedirs(path_folder, exist_ok=True)\n",
    "    '''Generate mean and IQR tables'''\n",
    "    generate_latex_tables(filename=\"data_QIS/QualityIndicatorSummary_\"+problem_name+\".csv\", output_dir=path_folder+\"/\"+problem_name+\"/latex\")\n",
    "    compute_wilcoxon(filename=\"data_QIS/QualityIndicatorSummary_\"+problem_name+\".csv\", output_dir=path_folder+\"/\"+problem_name+\"/wilcoxon\")"
   ]
  },
  {
   "cell_type": "code",
   "execution_count": null,
   "metadata": {},
   "outputs": [],
   "source": [
    "problems = [\"ZDT1\", \"ZDT2\", \"DTLZ2\", \"DTLZ7\"]\n",
    "for problem in problems:\n",
    "    generate_tables(problem)"
   ]
  },
  {
   "cell_type": "code",
   "execution_count": 2,
   "metadata": {},
   "outputs": [],
   "source": [
    "'''Average indicator for Friedman test'''\n",
    "average_HV_ZDT1 = compute_mean_indicator(filename=\"data_QIS/QualityIndicatorSummary_ZDT1.csv\", indicator_name=\"HV\")\n",
    "average_hv_ZDT2 = compute_mean_indicator(filename=\"data_QIS/QualityIndicatorSummary_ZDT2.csv\", indicator_name=\"HV\")\n",
    "average_hv_DTLZ2 = compute_mean_indicator(filename=\"data_QIS/QualityIndicatorSummary_DTLZ2.csv\", indicator_name=\"HV\")\n",
    "average_hv_DTLZ7 = compute_mean_indicator(filename=\"data_QIS/QualityIndicatorSummary_DTLZ7.csv\", indicator_name=\"HV\")"
   ]
  },
  {
   "cell_type": "code",
   "execution_count": 3,
   "metadata": {},
   "outputs": [
    {
     "data": {
      "text/html": [
       "<div>\n",
       "<style scoped>\n",
       "    .dataframe tbody tr th:only-of-type {\n",
       "        vertical-align: middle;\n",
       "    }\n",
       "\n",
       "    .dataframe tbody tr th {\n",
       "        vertical-align: top;\n",
       "    }\n",
       "\n",
       "    .dataframe thead th {\n",
       "        text-align: right;\n",
       "    }\n",
       "</style>\n",
       "<table border=\"1\" class=\"dataframe\">\n",
       "  <thead>\n",
       "    <tr style=\"text-align: right;\">\n",
       "      <th></th>\n",
       "      <th>NSGAII</th>\n",
       "      <th>NSGAII surrogate iSOUPTR 10%</th>\n",
       "      <th>NSGAII surrogate iSOUPTR 20%</th>\n",
       "      <th>NSGAII surrogate iSOUPTR 30%</th>\n",
       "      <th>NSGAII surrogate LSTM 10%</th>\n",
       "      <th>NSGAII surrogate LSTM 20%</th>\n",
       "      <th>NSGAII surrogate LSTM 30%</th>\n",
       "      <th>NSGAII surrogate MOLMLP 10%</th>\n",
       "      <th>NSGAII surrogate MOLMLP 20%</th>\n",
       "      <th>NSGAII surrogate MOLMLP 30%</th>\n",
       "      <th>NSGAII surrogate RC 10%</th>\n",
       "      <th>NSGAII surrogate RC 20%</th>\n",
       "      <th>NSGAII surrogate RC 30%</th>\n",
       "    </tr>\n",
       "  </thead>\n",
       "  <tbody>\n",
       "    <tr>\n",
       "      <th>ZDT1</th>\n",
       "      <td>0.767317</td>\n",
       "      <td>3.626942</td>\n",
       "      <td>1.387483</td>\n",
       "      <td>0.837976</td>\n",
       "      <td>0.900882</td>\n",
       "      <td>0.799516</td>\n",
       "      <td>0.791455</td>\n",
       "      <td>1.457544</td>\n",
       "      <td>0.953614</td>\n",
       "      <td>0.859239</td>\n",
       "      <td>1.072799</td>\n",
       "      <td>0.921053</td>\n",
       "      <td>0.909568</td>\n",
       "    </tr>\n",
       "    <tr>\n",
       "      <th>ZDT2</th>\n",
       "      <td>0.341765</td>\n",
       "      <td>2.161539</td>\n",
       "      <td>0.718756</td>\n",
       "      <td>0.676666</td>\n",
       "      <td>0.252103</td>\n",
       "      <td>0.340015</td>\n",
       "      <td>0.360196</td>\n",
       "      <td>0.647130</td>\n",
       "      <td>0.483807</td>\n",
       "      <td>0.503730</td>\n",
       "      <td>1.122896</td>\n",
       "      <td>0.375288</td>\n",
       "      <td>0.426326</td>\n",
       "    </tr>\n",
       "    <tr>\n",
       "      <th>DTLZ2</th>\n",
       "      <td>0.598808</td>\n",
       "      <td>3.178459</td>\n",
       "      <td>2.034576</td>\n",
       "      <td>2.201790</td>\n",
       "      <td>0.378541</td>\n",
       "      <td>0.452593</td>\n",
       "      <td>0.378724</td>\n",
       "      <td>3.007420</td>\n",
       "      <td>0.485454</td>\n",
       "      <td>0.443563</td>\n",
       "      <td>0.412485</td>\n",
       "      <td>0.751741</td>\n",
       "      <td>0.529741</td>\n",
       "    </tr>\n",
       "    <tr>\n",
       "      <th>DTLZ7</th>\n",
       "      <td>0.421404</td>\n",
       "      <td>0.405148</td>\n",
       "      <td>0.327256</td>\n",
       "      <td>0.400345</td>\n",
       "      <td>0.252606</td>\n",
       "      <td>0.260880</td>\n",
       "      <td>0.218718</td>\n",
       "      <td>0.832671</td>\n",
       "      <td>0.472378</td>\n",
       "      <td>0.318214</td>\n",
       "      <td>0.366132</td>\n",
       "      <td>0.351702</td>\n",
       "      <td>0.409743</td>\n",
       "    </tr>\n",
       "  </tbody>\n",
       "</table>\n",
       "</div>"
      ],
      "text/plain": [
       "         NSGAII  NSGAII surrogate iSOUPTR 10%  NSGAII surrogate iSOUPTR 20%  \\\n",
       "ZDT1   0.767317                      3.626942                      1.387483   \n",
       "ZDT2   0.341765                      2.161539                      0.718756   \n",
       "DTLZ2  0.598808                      3.178459                      2.034576   \n",
       "DTLZ7  0.421404                      0.405148                      0.327256   \n",
       "\n",
       "       NSGAII surrogate iSOUPTR 30%  NSGAII surrogate LSTM 10%  \\\n",
       "ZDT1                       0.837976                   0.900882   \n",
       "ZDT2                       0.676666                   0.252103   \n",
       "DTLZ2                      2.201790                   0.378541   \n",
       "DTLZ7                      0.400345                   0.252606   \n",
       "\n",
       "       NSGAII surrogate LSTM 20%  NSGAII surrogate LSTM 30%  \\\n",
       "ZDT1                    0.799516                   0.791455   \n",
       "ZDT2                    0.340015                   0.360196   \n",
       "DTLZ2                   0.452593                   0.378724   \n",
       "DTLZ7                   0.260880                   0.218718   \n",
       "\n",
       "       NSGAII surrogate MOLMLP 10%  NSGAII surrogate MOLMLP 20%  \\\n",
       "ZDT1                      1.457544                     0.953614   \n",
       "ZDT2                      0.647130                     0.483807   \n",
       "DTLZ2                     3.007420                     0.485454   \n",
       "DTLZ7                     0.832671                     0.472378   \n",
       "\n",
       "       NSGAII surrogate MOLMLP 30%  NSGAII surrogate RC 10%  \\\n",
       "ZDT1                      0.859239                 1.072799   \n",
       "ZDT2                      0.503730                 1.122896   \n",
       "DTLZ2                     0.443563                 0.412485   \n",
       "DTLZ7                     0.318214                 0.366132   \n",
       "\n",
       "       NSGAII surrogate RC 20%  NSGAII surrogate RC 30%  \n",
       "ZDT1                  0.921053                 0.909568  \n",
       "ZDT2                  0.375288                 0.426326  \n",
       "DTLZ2                 0.751741                 0.529741  \n",
       "DTLZ7                 0.351702                 0.409743  "
      ]
     },
     "execution_count": 3,
     "metadata": {},
     "output_type": "execute_result"
    }
   ],
   "source": [
    "avg_HV = pd.concat([average_HV_ZDT1, average_hv_ZDT2, average_hv_DTLZ2, average_hv_DTLZ7], axis=0)\n",
    "avg_HV"
   ]
  },
  {
   "cell_type": "code",
   "execution_count": null,
   "metadata": {},
   "outputs": [],
   "source": [
    "friedman_aligned_rank_test(avg_HV)"
   ]
  },
  {
   "cell_type": "code",
   "execution_count": 4,
   "metadata": {},
   "outputs": [
    {
     "name": "stdout",
     "output_type": "stream",
     "text": [
      "[[ 1. 13. 11.  4.  6.  3.  2. 12.  9.  5. 10.  8.  7.]\n",
      " [ 3. 13. 11. 10.  1.  2.  4.  9.  7.  8. 12.  5.  6.]\n",
      " [ 8. 13. 10. 11.  1.  5.  2. 12.  6.  4.  3.  9.  7.]\n",
      " [11.  9.  5.  8.  2.  3.  1. 13. 12.  4.  7.  6. 10.]]\n",
      "[ 5.75 12.    9.25  8.25  2.5   3.25  2.25 11.5   8.5   5.25  8.    7.\n",
      "  7.5 ]\n"
     ]
    },
    {
     "data": {
      "text/html": [
       "<div>\n",
       "<style scoped>\n",
       "    .dataframe tbody tr th:only-of-type {\n",
       "        vertical-align: middle;\n",
       "    }\n",
       "\n",
       "    .dataframe tbody tr th {\n",
       "        vertical-align: top;\n",
       "    }\n",
       "\n",
       "    .dataframe thead th {\n",
       "        text-align: right;\n",
       "    }\n",
       "</style>\n",
       "<table border=\"1\" class=\"dataframe\">\n",
       "  <thead>\n",
       "    <tr style=\"text-align: right;\">\n",
       "      <th></th>\n",
       "      <th>Results</th>\n",
       "    </tr>\n",
       "  </thead>\n",
       "  <tbody>\n",
       "    <tr>\n",
       "      <th>Friedman-statistic</th>\n",
       "      <td>30.824176</td>\n",
       "    </tr>\n",
       "    <tr>\n",
       "      <th>p-value</th>\n",
       "      <td>0.002095</td>\n",
       "    </tr>\n",
       "  </tbody>\n",
       "</table>\n",
       "</div>"
      ],
      "text/plain": [
       "                      Results\n",
       "Friedman-statistic  30.824176\n",
       "p-value              0.002095"
      ]
     },
     "execution_count": 4,
     "metadata": {},
     "output_type": "execute_result"
    }
   ],
   "source": [
    "friedman_test(avg_HV)"
   ]
  },
  {
   "cell_type": "code",
   "execution_count": null,
   "metadata": {},
   "outputs": [],
   "source": [
    "friedman_aligned_ph_test(avg_HV)"
   ]
  }
 ],
 "metadata": {
  "kernelspec": {
   "display_name": "env2",
   "language": "python",
   "name": "python3"
  },
  "language_info": {
   "codemirror_mode": {
    "name": "ipython",
    "version": 3
   },
   "file_extension": ".py",
   "mimetype": "text/x-python",
   "name": "python",
   "nbconvert_exporter": "python",
   "pygments_lexer": "ipython3",
   "version": "3.8.0"
  }
 },
 "nbformat": 4,
 "nbformat_minor": 2
}
