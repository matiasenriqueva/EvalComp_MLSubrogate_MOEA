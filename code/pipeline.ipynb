{
 "cells": [
  {
   "cell_type": "code",
   "execution_count": 3,
   "metadata": {},
   "outputs": [
    {
     "name": "stderr",
     "output_type": "stream",
     "text": [
      "[2024-04-01 01:39:22,943] [jmetal.core.algorithm] [DEBUG] Creating initial set of solutions...\n",
      "[2024-04-01 01:39:22,944] [jmetal.core.algorithm] [DEBUG] Evaluating solutions...\n",
      "[2024-04-01 01:39:22,945] [jmetal.core.algorithm] [DEBUG] Initializing progress...\n",
      "[2024-04-01 01:39:22,945] [jmetal.core.algorithm] [DEBUG] Running main loop until termination criteria is met\n",
      "[2024-04-01 01:39:26,190] [jmetal.core.algorithm] [DEBUG] Finished!\n"
     ]
    }
   ],
   "source": [
    "from jmetal.algorithm.multiobjective import NSGAII\n",
    "from jmetal.operator import SBXCrossover, PolynomialMutation\n",
    "from jmetal.problem import ZDT1\n",
    "from jmetal.util.termination_criterion import StoppingByEvaluations\n",
    "\n",
    "problem = ZDT1()\n",
    "\n",
    "algorithm = NSGAII(\n",
    "    problem=problem,\n",
    "    population_size=100,\n",
    "    offspring_population_size=100,\n",
    "    mutation=PolynomialMutation(probability=1.0 / problem.number_of_variables(), distribution_index=20),\n",
    "    crossover=SBXCrossover(probability=1.0, distribution_index=20),\n",
    "    termination_criterion=StoppingByEvaluations(max_evaluations=25000)\n",
    ")\n",
    "\n",
    "algorithm.run()"
   ]
  },
  {
   "cell_type": "code",
   "execution_count": 7,
   "metadata": {},
   "outputs": [
    {
     "name": "stderr",
     "output_type": "stream",
     "text": [
      "[2024-04-01 01:43:34,443] [jmetal.util.solution] [INFO] Output file (function values): FUN.NSGAII.ZDT1\n",
      "[2024-04-01 01:43:34,444] [jmetal.util.solution] [INFO] Output file (variables): VAR.NSGAII.ZDT1\n"
     ]
    }
   ],
   "source": [
    "from jmetal.util.solution import get_non_dominated_solutions, print_function_values_to_file, print_variables_to_file\n",
    "\n",
    "front = get_non_dominated_solutions(algorithm.get_result())\n",
    "\n",
    "# save to files\n",
    "print_function_values_to_file(front, 'FUN.NSGAII.ZDT1')\n",
    "print_variables_to_file(front, 'VAR.NSGAII.ZDT1')"
   ]
  },
  {
   "cell_type": "code",
   "execution_count": 8,
   "metadata": {},
   "outputs": [
    {
     "name": "stderr",
     "output_type": "stream",
     "text": [
      "[2024-04-01 01:43:38,229] [jmetal.lab.visualization.plotting] [INFO] Figure {_filename} saved to file\n"
     ]
    }
   ],
   "source": [
    "from jmetal.lab.visualization import Plot\n",
    "\n",
    "plot_front = Plot(title='Pareto front approximation', axis_labels=['x', 'y'])\n",
    "plot_front.plot(front, label='NSGAII-ZDT1', filename='NSGAII-ZDT1', format='png')"
   ]
  },
  {
   "cell_type": "code",
   "execution_count": null,
   "metadata": {},
   "outputs": [],
   "source": []
  },
  {
   "cell_type": "code",
   "execution_count": null,
   "metadata": {},
   "outputs": [],
   "source": [
    "from jmetal.lab.experiment import Experiment, Job\n",
    "\n",
    "\n",
    "def experiment_configuration(problems: list, \n",
    "                             n_run: int, \n",
    "                             n_population_size: int, \n",
    "                             ):\n",
    " jobs = []\n",
    "\n",
    " for run in range(n_run):\n",
    "     for problem in problems:\n",
    "         jobs.append(\n",
    "             Job(\n",
    "                 algorithm=NSGAII(\n",
    "                     problem=problem,\n",
    "                     population_size=100,\n",
    "                     mating_pool_size=100,\n",
    "                     offspring_size=100,\n",
    "                     max_evaluations=5000,\n",
    "                     mutation=NullMutation(),\n",
    "                     crossover=SBX(probability=1.0, distribution_index=20),\n",
    "                     selection=BinaryTournamentSelection(comparator=RankingAndCrowdingDistanceComparator())\n",
    "                 ),\n",
    "                 label='NSGAII with Null Mutation',\n",
    "                 run=run,\n",
    "             )\n",
    "         )\n",
    "         jobs.append(\n",
    "             Job(\n",
    "                 algorithm=NSGAII(\n",
    "                     problem=problem,\n",
    "                     population_size=100,\n",
    "                     mating_pool_size=100,\n",
    "                     offspring_size=100,\n",
    "                     max_evaluations=5000,\n",
    "                     mutation=Polynomial(probability=1.0 / problem.number_of_variables, distribution_index=20),\n",
    "                     crossover=SBX(probability=1.0, distribution_index=20),\n",
    "                     selection=BinaryTournamentSelection(comparator=RankingAndCrowdingDistanceComparator())\n",
    "                 ),\n",
    "                 label='NSGAII with Polynomial Mutation',\n",
    "                 run=run\n",
    "             )\n",
    "         )\n",
    "\n",
    " return jobs\n",
    "\n",
    "if __name__ == '__main__':\n",
    " jobs = configure_experiment(problems=[ZDT1(), ZDT2()], n_run=3)\n",
    "\n",
    " test = Experiment(\n",
    "     base_directory='./experiment',\n",
    "     jobs=jobs\n",
    " )\n",
    " test.run()\n",
    "\n",
    " metrics = [HyperVolume(reference_point=[1, 1]), ComputingTime()]\n",
    " data = test.compute_metrics(metrics)\n",
    " print(data)"
   ]
  }
 ],
 "metadata": {
  "kernelspec": {
   "display_name": "venv",
   "language": "python",
   "name": "python3"
  },
  "language_info": {
   "codemirror_mode": {
    "name": "ipython",
    "version": 3
   },
   "file_extension": ".py",
   "mimetype": "text/x-python",
   "name": "python",
   "nbconvert_exporter": "python",
   "pygments_lexer": "ipython3",
   "version": "3.11.4"
  }
 },
 "nbformat": 4,
 "nbformat_minor": 2
}
