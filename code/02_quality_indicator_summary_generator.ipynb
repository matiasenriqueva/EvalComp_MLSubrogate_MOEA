{
 "cells": [
  {
   "cell_type": "code",
   "execution_count": 1,
   "metadata": {},
   "outputs": [],
   "source": [
    "from jmetal.core.quality_indicator import HyperVolume, EpsilonIndicator\n",
    "from jmetal.lab.experiment import generate_summary_from_experiment\n",
    "import pandas as pd\n",
    "import os"
   ]
  },
  {
   "cell_type": "code",
   "execution_count": 2,
   "metadata": {},
   "outputs": [],
   "source": [
    "def generate_summary_problem(dir_exp_value, problem_name, HV_ref_list:list, reference_fronts_dir = \"resources/reference_front\"):\n",
    "    #generate sumaary file for problem\n",
    "    generate_summary_from_experiment(\n",
    "        input_dir=dir_exp_value,\n",
    "        reference_fronts= reference_fronts_dir,\n",
    "        quality_indicators=[EpsilonIndicator(), HyperVolume(HV_ref_list)],\n",
    "    )\n",
    "\n",
    "    os.makedirs(\"data_QIS\", exist_ok=True)\n",
    "    #Change name DTLZ2 quality indicator summary\n",
    "    problem_QIS = pd.read_csv(\"QualityIndicatorSummary.csv\")\n",
    "    problem_QIS= problem_QIS.loc[problem_QIS['Problem'] == problem_name]\n",
    "    problem_QIS.to_csv(\"data_QIS/QualityIndicatorSummary_\"+problem_name+\".csv\", index=False)\n",
    "\n",
    "    "
   ]
  },
  {
   "cell_type": "code",
   "execution_count": 3,
   "metadata": {},
   "outputs": [],
   "source": [
    "#directories data\n",
    "exp_data_zdt = \"data_zdt\"\n",
    "exp_data_dtlz = \"data_dtlz\""
   ]
  },
  {
   "cell_type": "code",
   "execution_count": 4,
   "metadata": {},
   "outputs": [],
   "source": [
    "generate_summary_problem(exp_data_zdt, \"ZDT1\", HV_ref_list=[1.1, 1.1])"
   ]
  },
  {
   "cell_type": "code",
   "execution_count": 5,
   "metadata": {},
   "outputs": [],
   "source": [
    "generate_summary_problem(exp_data_zdt, \"ZDT2\", HV_ref_list=[1.1, 1.1])"
   ]
  },
  {
   "cell_type": "code",
   "execution_count": 6,
   "metadata": {},
   "outputs": [],
   "source": [
    "generate_summary_problem(exp_data_dtlz, \"DTLZ2\", HV_ref_list=[1.1, 1.1, 1.1])"
   ]
  },
  {
   "cell_type": "code",
   "execution_count": 7,
   "metadata": {},
   "outputs": [],
   "source": [
    "generate_summary_problem(exp_data_dtlz, \"DTLZ7\", HV_ref_list=[1.1, 1.1, 5.1])"
   ]
  }
 ],
 "metadata": {
  "kernelspec": {
   "display_name": "env2",
   "language": "python",
   "name": "python3"
  },
  "language_info": {
   "codemirror_mode": {
    "name": "ipython",
    "version": 3
   },
   "file_extension": ".py",
   "mimetype": "text/x-python",
   "name": "python",
   "nbconvert_exporter": "python",
   "pygments_lexer": "ipython3",
   "version": "3.8.0"
  }
 },
 "nbformat": 4,
 "nbformat_minor": 2
}
