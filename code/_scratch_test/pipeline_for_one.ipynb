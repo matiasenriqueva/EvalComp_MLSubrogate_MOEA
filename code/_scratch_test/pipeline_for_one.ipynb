{
 "cells": [
  {
   "cell_type": "code",
   "execution_count": null,
   "metadata": {},
   "outputs": [],
   "source": [
    "from jmetal.lab.experiment import Experiment, Job, generate_summary_from_experiment\n",
    "from jmetal.operator import PolynomialMutation, SBXCrossover\n",
    "from jmetal.util.solution import get_non_dominated_solutions, read_solutions\n",
    "from jmetal.util.termination_criterion import StoppingByEvaluations\n",
    "from jmetal.algorithm.multiobjective.nsgaii import NSGAII\n",
    "from jmetal.core.quality_indicator import HyperVolume, EpsilonIndicator\n",
    "\n",
    "import matplotlib.pyplot as plt\n",
    "import numpy as np\n",
    "from modnsgaii import S_NSGAII\n",
    "\n",
    "from jmetal.problem import ZDT1, ZDT2\n",
    "from jmetal.problem import DTLZ1, DTLZ2\n",
    "\n",
    "from surrogate_models.regressor_chain_surrogate import RegressorChainSurrogate\n",
    "from surrogate_models.multioutput_learning_surrogate import MultiOutputLearnerSurrogate\n",
    "from surrogate_models.iSOUPTreeRegressor_surrogate import iSOUPTreeRegressorSurrogate\n",
    "from surrogate_models.LSTM_surrogate import LSTMSurrogate"
   ]
  },
  {
   "cell_type": "code",
   "execution_count": null,
   "metadata": {},
   "outputs": [],
   "source": [
    "def configure_experiment(problems: list, \n",
    "                             n_run: int, \n",
    "                             n_population_size: int,\n",
    "                             n_max_evaluations: int,\n",
    "                             n_offspring_size: int):\n",
    "    jobs = []\n",
    "\n",
    "    for run in range(n_run):\n",
    "        for problem in problems:\n",
    "            jobs.append(\n",
    "                Job(\n",
    "                    algorithm=S_NSGAII(\n",
    "                        problem=problem,\n",
    "                        population_size=n_population_size,\n",
    "                        offspring_population_size=n_offspring_size,\n",
    "                        mutation=PolynomialMutation(probability=0.95, distribution_index=20),\n",
    "                        crossover=SBXCrossover(probability=1.0, distribution_index=20),\n",
    "                        termination_criterion=StoppingByEvaluations(max_evaluations=n_max_evaluations),\n",
    "                        batch_sample_percentaje = 0.3,\n",
    "                        surrogate_ml=LSTMSurrogate(dense_layers=64, activation='tanh', optimizer='adam', epochs=20, batch_size=10, verbose=0),\n",
    "\n",
    "                    ),\n",
    "                algorithm_tag='NSGAII surrogate 30% batch size alternate',\n",
    "                problem_tag=problem.name(),\n",
    "                run=run,\n",
    "                )\n",
    "            )\n",
    "            \n",
    "\n",
    "    return jobs"
   ]
  },
  {
   "cell_type": "code",
   "execution_count": null,
   "metadata": {},
   "outputs": [],
   "source": [
    " # Configure the experiments\n",
    "jobs = configure_experiment(problems=[DTLZ1()], n_run=1, n_population_size=100, n_max_evaluations=50000, n_offspring_size=100)\n",
    "\n",
    "# Run the study\n",
    "output_directory = \"data\"\n",
    "\n",
    "experiment = Experiment(output_dir=output_directory, jobs=jobs)\n",
    "experiment.run()\n"
   ]
  },
  {
   "cell_type": "code",
   "execution_count": null,
   "metadata": {},
   "outputs": [],
   "source": [
    "# Generate summary file\n",
    "generate_summary_from_experiment(\n",
    "    input_dir=output_directory,\n",
    "    reference_fronts=\"resources/reference_front\",\n",
    "    quality_indicators=[EpsilonIndicator(), HyperVolume([1.0, 1.0, 1.0])],\n",
    ")"
   ]
  }
 ],
 "metadata": {
  "kernelspec": {
   "display_name": "env2",
   "language": "python",
   "name": "python3"
  },
  "language_info": {
   "codemirror_mode": {
    "name": "ipython",
    "version": 3
   },
   "file_extension": ".py",
   "mimetype": "text/x-python",
   "name": "python",
   "nbconvert_exporter": "python",
   "pygments_lexer": "ipython3",
   "version": "3.8.0"
  }
 },
 "nbformat": 4,
 "nbformat_minor": 2
}
